{
  "nbformat": 4,
  "nbformat_minor": 0,
  "metadata": {
    "colab": {
      "name": "Generating Rivers_Sketch_RNN.ipynb",
      "version": "0.3.2",
      "provenance": [],
      "collapsed_sections": []
    },
    "kernelspec": {
      "display_name": "Python 2",
      "language": "python",
      "name": "python2"
    }
  },
  "cells": [
    {
      "cell_type": "markdown",
      "metadata": {
        "id": "tDybPQiEFQuJ",
        "colab_type": "text"
      },
      "source": [
        "In this notebook, we will show how to load pre-trained models and draw things with sketch-rnn"
      ]
    },
    {
      "cell_type": "code",
      "metadata": {
        "id": "k0GqvYgB9JLC",
        "colab_type": "code",
        "outputId": "68a7dab7-2f54-4cba-a5fc-8beeb85ed014",
        "colab": {
          "base_uri": "https://localhost:8080/",
          "height": 34
        }
      },
      "source": [
        "# import the required libraries\n",
        "!pip install numpy==1.16.1\n",
        "import numpy as np\n",
        "import time\n",
        "import random\n",
        "import cPickle\n",
        "import codecs\n",
        "import collections\n",
        "import os\n",
        "import math\n",
        "import json\n",
        "import tensorflow as tf\n",
        "from six.moves import xrange"
      ],
      "execution_count": 0,
      "outputs": [
        {
          "output_type": "stream",
          "text": [
            "Requirement already satisfied: numpy==1.16.1 in /usr/local/lib/python2.7/dist-packages (1.16.1)\n"
          ],
          "name": "stdout"
        }
      ]
    },
    {
      "cell_type": "code",
      "metadata": {
        "id": "HwpNXwu60-QX",
        "colab_type": "code",
        "outputId": "67f90a19-67b0-4da4-baaa-8d018ebd91e3",
        "colab": {
          "base_uri": "https://localhost:8080/",
          "height": 34
        }
      },
      "source": [
        "from google.colab import drive\n",
        "drive.mount('/content/drive')"
      ],
      "execution_count": 0,
      "outputs": [
        {
          "output_type": "stream",
          "text": [
            "Drive already mounted at /content/drive; to attempt to forcibly remount, call drive.mount(\"/content/drive\", force_remount=True).\n"
          ],
          "name": "stdout"
        }
      ]
    },
    {
      "cell_type": "code",
      "metadata": {
        "id": "UI4ZC__4FQuL",
        "colab_type": "code",
        "colab": {}
      },
      "source": [
        "# libraries required for visualisation:\n",
        "from IPython.display import SVG, display\n",
        "import PIL\n",
        "from PIL import Image\n",
        "import matplotlib.pyplot as plt\n",
        "\n",
        "# set numpy output to something sensible\n",
        "np.set_printoptions(precision=8, edgeitems=6, linewidth=200, suppress=True)"
      ],
      "execution_count": 0,
      "outputs": []
    },
    {
      "cell_type": "code",
      "metadata": {
        "id": "D7ObpAUh9jrk",
        "colab_type": "code",
        "colab": {}
      },
      "source": [
        "!pip install -qU svgwrite"
      ],
      "execution_count": 0,
      "outputs": []
    },
    {
      "cell_type": "code",
      "metadata": {
        "id": "4xYY-TUd9aiD",
        "colab_type": "code",
        "colab": {}
      },
      "source": [
        "import svgwrite # conda install -c omnia svgwrite=1.1.6"
      ],
      "execution_count": 0,
      "outputs": []
    },
    {
      "cell_type": "code",
      "metadata": {
        "id": "NzPSD-XRFQuP",
        "colab_type": "code",
        "outputId": "fb49f975-1ffc-43cd-f6a1-e9e27b12b930",
        "colab": {
          "base_uri": "https://localhost:8080/",
          "height": 34
        }
      },
      "source": [
        "tf.logging.info(\"TensorFlow Version: %s\", tf.__version__)\n"
      ],
      "execution_count": 0,
      "outputs": [
        {
          "output_type": "stream",
          "text": [
            "INFO:tensorflow:TensorFlow Version: 1.13.1\n"
          ],
          "name": "stdout"
        }
      ]
    },
    {
      "cell_type": "code",
      "metadata": {
        "id": "LebxcF4p90OR",
        "colab_type": "code",
        "colab": {}
      },
      "source": [
        "!pip install -q magenta"
      ],
      "execution_count": 0,
      "outputs": []
    },
    {
      "cell_type": "code",
      "metadata": {
        "id": "NkFS0E1zFQuU",
        "colab_type": "code",
        "colab": {}
      },
      "source": [
        "# import our command line tools\n",
        "from magenta.models.sketch_rnn.sketch_rnn_train import *\n",
        "from magenta.models.sketch_rnn.model import *\n",
        "from magenta.models.sketch_rnn.utils import *\n",
        "from magenta.models.sketch_rnn.rnn import *"
      ],
      "execution_count": 0,
      "outputs": []
    },
    {
      "cell_type": "code",
      "metadata": {
        "id": "GBde4xkEFQuX",
        "colab_type": "code",
        "colab": {}
      },
      "source": [
        "# little function that displays vector images and saves them to .svg\n",
        "def draw_strokes(data, svg_filename=\"testing.svg\", factor=1000):\n",
        "  tf.gfile.MakeDirs(os.path.dirname(svg_filename))\n",
        "  min_x, max_x, min_y, max_y = get_bounds(data, factor)\n",
        "  print(min_x, max_x, min_y, max_y)\n",
        "  dims = (50 + max_x - min_x, 50 + max_y - min_y)\n",
        "  dwg = svgwrite.Drawing(svg_filename, size=dims)\n",
        "  dwg.add(dwg.rect(insert=(0, 0), size=dims,fill='white'))\n",
        "  lift_pen = 1\n",
        "  abs_x = 25 - min_x \n",
        "  abs_y = 25 - min_y\n",
        "  p = \"M%s,%s \" % (abs_x, abs_y)\n",
        "  command = \"m\"\n",
        "  for i in xrange(len(data)):\n",
        "    if (lift_pen == 1):\n",
        "      command = \"m\"\n",
        "    elif (command != \"l\"):\n",
        "      command = \"l\"\n",
        "    else:\n",
        "      command = \"\"\n",
        "    x = float(data[i,0])/factor\n",
        "    y = float(data[i,1])/factor\n",
        "    lift_pen = data[i, 2]\n",
        "    p += command+str(x)+\",\"+str(y)+\" \"\n",
        "  the_color = \"black\"\n",
        "  stroke_width = 1\n",
        "  dwg.add(dwg.path(p).stroke(the_color,stroke_width).fill(\"none\"))\n",
        "  dwg.save()\n",
        "  display(SVG(dwg.tostring()))\n",
        "\n",
        "# generate a 2D grid of many vector drawings\n",
        "def make_grid_svg(s_list, grid_space=10.0, grid_space_x=16.0):\n",
        "  def get_start_and_end(x):\n",
        "    x = np.array(x)\n",
        "    x = x[:, 0:2]\n",
        "    x_start = x[0]\n",
        "    x_end = x.sum(axis=0)\n",
        "    x = x.cumsum(axis=0)\n",
        "    x_max = x.max(axis=0)\n",
        "    x_min = x.min(axis=0)\n",
        "    center_loc = (x_max+x_min)*0.5\n",
        "    return x_start-center_loc, x_end\n",
        "  x_pos = 0.0\n",
        "  y_pos = 0.0\n",
        "  result = [[x_pos, y_pos, 1]]\n",
        "  for sample in s_list:\n",
        "    s = sample[0]\n",
        "    grid_loc = sample[1]\n",
        "    grid_y = grid_loc[0]*grid_space+grid_space*0.5\n",
        "    grid_x = grid_loc[1]*grid_space_x+grid_space_x*0.5\n",
        "    start_loc, delta_pos = get_start_and_end(s)\n",
        "\n",
        "    loc_x = start_loc[0]\n",
        "    loc_y = start_loc[1]\n",
        "    new_x_pos = grid_x+loc_x\n",
        "    new_y_pos = grid_y+loc_y\n",
        "    result.append([new_x_pos-x_pos, new_y_pos-y_pos, 0])\n",
        "\n",
        "    result += s.tolist()\n",
        "    result[-1][2] = 1\n",
        "    x_pos = new_x_pos+delta_pos[0]\n",
        "    y_pos = new_y_pos+delta_pos[1]\n",
        "  return np.array(result)"
      ],
      "execution_count": 0,
      "outputs": []
    },
    {
      "cell_type": "markdown",
      "metadata": {
        "id": "if7-UyxzFQuY",
        "colab_type": "text"
      },
      "source": [
        "define the path of the model you want to load, and also the path of the dataset"
      ]
    },
    {
      "cell_type": "code",
      "metadata": {
        "id": "Dipv1EbsFQuZ",
        "colab_type": "code",
        "colab": {}
      },
      "source": [
        "data_dir = '/content/drive/My Drive/**CHANGE FOR YOUR FILEPATH**'\n",
        "model_dir = '/content/drive/My Drive/**CHANGE FOR YOUR FILEPATH**'\n",
        "models_root_dir = '/content/drive/**CHANGE FOR YOUR FILEPATH**'"
      ],
      "execution_count": 0,
      "outputs": []
    },
    {
      "cell_type": "code",
      "metadata": {
        "id": "eaSqI0fIFQub",
        "colab_type": "code",
        "outputId": "281ef560-0714-44cb-eaec-32872059f92e",
        "colab": {
          "base_uri": "https://localhost:8080/",
          "height": 68
        }
      },
      "source": [
        "download_pretrained_models(models_root_dir=models_root_dir)"
      ],
      "execution_count": 0,
      "outputs": [
        {
          "output_type": "stream",
          "text": [
            "INFO:tensorflow:/content/drive/My Drive/gps_locations/sketch_rnn.zip already exists, using cached copy\n",
            "INFO:tensorflow:Unzipping /content/drive/My Drive/gps_locations/sketch_rnn.zip...\n",
            "INFO:tensorflow:Unzipping complete.\n"
          ],
          "name": "stdout"
        }
      ]
    },
    {
      "cell_type": "code",
      "metadata": {
        "id": "G4sRuxyn_1aO",
        "colab_type": "code",
        "colab": {}
      },
      "source": [
        "def load_env_compatible(data_dir, model_dir):\n",
        "  \"\"\"Loads environment for inference mode, used in jupyter notebook.\"\"\"\n",
        "  # modified https://github.com/tensorflow/magenta/blob/master/magenta/models/sketch_rnn/sketch_rnn_train.py\n",
        "  # to work with depreciated tf.HParams functionality\n",
        "  model_params = sketch_rnn_model.get_default_hparams()\n",
        "  with tf.gfile.Open(os.path.join(model_dir, 'model_config.json'), 'r') as f:\n",
        "    data = json.load(f)\n",
        "  fix_list = ['conditional', 'is_training', 'use_input_dropout', 'use_output_dropout', 'use_recurrent_dropout']\n",
        "  for fix in fix_list:\n",
        "    data[fix] = (data[fix] == 1)\n",
        "  model_params.parse_json(json.dumps(data))\n",
        "  return load_dataset(data_dir, model_params, inference_mode=True)\n",
        "\n",
        "def load_model_compatible(model_dir):\n",
        "  \"\"\"Loads model for inference mode, used in jupyter notebook.\"\"\"\n",
        "  # modified https://github.com/tensorflow/magenta/blob/master/magenta/models/sketch_rnn/sketch_rnn_train.py\n",
        "  # to work with depreciated tf.HParams functionality\n",
        "  model_params = sketch_rnn_model.get_default_hparams()\n",
        "  with tf.gfile.Open(os.path.join(model_dir, 'model_config.json'), 'r') as f:\n",
        "    data = json.load(f)\n",
        "  fix_list = ['conditional', 'is_training', 'use_input_dropout', 'use_output_dropout', 'use_recurrent_dropout']\n",
        "  for fix in fix_list:\n",
        "    data[fix] = (data[fix] == 1)\n",
        "  model_params.parse_json(json.dumps(data))\n",
        "\n",
        "  model_params.batch_size = 1  # only sample one at a time\n",
        "  eval_model_params = sketch_rnn_model.copy_hparams(model_params)\n",
        "  eval_model_params.use_input_dropout = 0\n",
        "  eval_model_params.use_recurrent_dropout = 0\n",
        "  eval_model_params.use_output_dropout = 0\n",
        "  eval_model_params.is_training = 0\n",
        "  sample_model_params = sketch_rnn_model.copy_hparams(eval_model_params)\n",
        "  sample_model_params.max_seq_len = 1  # sample one point at a time\n",
        "  return [model_params, eval_model_params, sample_model_params]"
      ],
      "execution_count": 0,
      "outputs": []
    },
    {
      "cell_type": "code",
      "metadata": {
        "id": "9m-jSAb3FQuf",
        "colab_type": "code",
        "outputId": "4b02f5c9-8125-4ec9-d8f2-a7477e07d560",
        "colab": {
          "base_uri": "https://localhost:8080/",
          "height": 136
        }
      },
      "source": [
        "[train_set, valid_set, test_set, hps_model, eval_hps_model, sample_hps_model] = load_env_compatible(data_dir, model_dir)"
      ],
      "execution_count": 0,
      "outputs": [
        {
          "output_type": "stream",
          "text": [
            "INFO:tensorflow:Loaded 1185/100/100 from low_cov_normalized.npz\n",
            "INFO:tensorflow:Dataset combined: 1385 (1185/100/100), avg len 100\n",
            "INFO:tensorflow:model_params.max_seq_len 101.\n",
            "total images <= max_seq_len is 1185\n",
            "total images <= max_seq_len is 100\n",
            "total images <= max_seq_len is 100\n",
            "INFO:tensorflow:normalizing_scale_factor 0.9167.\n"
          ],
          "name": "stdout"
        }
      ]
    },
    {
      "cell_type": "code",
      "metadata": {
        "id": "1pHS8TSgFQui",
        "colab_type": "code",
        "outputId": "f9c3561a-281f-4ee9-c0d1-587711b64675",
        "colab": {
          "base_uri": "https://localhost:8080/",
          "height": 221
        }
      },
      "source": [
        "# construct the sketch-rnn model here:\n",
        "reset_graph()\n",
        "model = Model(hps_model)\n",
        "eval_model = Model(eval_hps_model, reuse=True)\n",
        "sample_model = Model(sample_hps_model, reuse=True)"
      ],
      "execution_count": 0,
      "outputs": [
        {
          "output_type": "stream",
          "text": [
            "INFO:tensorflow:Model using gpu.\n",
            "INFO:tensorflow:Input dropout mode = False.\n",
            "INFO:tensorflow:Output dropout mode = False.\n",
            "INFO:tensorflow:Recurrent dropout mode = True.\n",
            "INFO:tensorflow:Model using gpu.\n",
            "INFO:tensorflow:Input dropout mode = 0.\n",
            "INFO:tensorflow:Output dropout mode = 0.\n",
            "INFO:tensorflow:Recurrent dropout mode = 0.\n",
            "INFO:tensorflow:Model using gpu.\n",
            "INFO:tensorflow:Input dropout mode = 0.\n",
            "INFO:tensorflow:Output dropout mode = 0.\n",
            "INFO:tensorflow:Recurrent dropout mode = 0.\n"
          ],
          "name": "stdout"
        }
      ]
    },
    {
      "cell_type": "code",
      "metadata": {
        "id": "Sb4eOsQG91YX",
        "colab_type": "code",
        "outputId": "ffc8981a-34d2-4030-9368-31aaa970466b",
        "colab": {
          "base_uri": "https://localhost:8080/",
          "height": 2910
        }
      },
      "source": [
        "!sketch_rnn_train --data_dir='/content/drive/My Drive/**CHANGE FOR YOUR FILEPATH**' --log_root='/content/drive/My Drive/**CHANGE FOR YOUR FILEPATH**' --hparams=data_set=['low_cov_normalized.npz'],num_steps=500,conditional=1,dec_rnn_size=512,save_every=50"
      ],
      "execution_count": 0,
      "outputs": [
        {
          "output_type": "stream",
          "text": [
            "\n",
            "WARNING: The TensorFlow contrib module will not be included in TensorFlow 2.0.\n",
            "For more information, please see:\n",
            "  * https://github.com/tensorflow/community/blob/master/rfcs/20180907-contrib-sunset.md\n",
            "  * https://github.com/tensorflow/addons\n",
            "If you depend on functionality not listed there, please file an issue.\n",
            "\n",
            "INFO:tensorflow:sketch-rnn\n",
            "INFO:tensorflow:Hyperparams:\n",
            "INFO:tensorflow:grad_clip = 1.0\n",
            "INFO:tensorflow:conditional = True\n",
            "INFO:tensorflow:min_learning_rate = 1e-05\n",
            "INFO:tensorflow:num_mixture = 20\n",
            "INFO:tensorflow:is_training = True\n",
            "INFO:tensorflow:input_dropout_prob = 0.9\n",
            "INFO:tensorflow:kl_decay_rate = 0.99995\n",
            "INFO:tensorflow:kl_tolerance = 0.2\n",
            "INFO:tensorflow:random_scale_factor = 0.15\n",
            "INFO:tensorflow:decay_rate = 0.9999\n",
            "INFO:tensorflow:use_recurrent_dropout = True\n",
            "INFO:tensorflow:num_steps = 500\n",
            "INFO:tensorflow:use_output_dropout = False\n",
            "INFO:tensorflow:max_seq_len = 250\n",
            "INFO:tensorflow:z_size = 128\n",
            "INFO:tensorflow:augment_stroke_prob = 0.1\n",
            "INFO:tensorflow:learning_rate = 0.001\n",
            "INFO:tensorflow:batch_size = 100\n",
            "INFO:tensorflow:enc_model = lstm\n",
            "INFO:tensorflow:use_input_dropout = False\n",
            "INFO:tensorflow:dec_model = lstm\n",
            "INFO:tensorflow:enc_rnn_size = 256\n",
            "INFO:tensorflow:output_dropout_prob = 0.9\n",
            "INFO:tensorflow:save_every = 50\n",
            "INFO:tensorflow:kl_weight = 0.5\n",
            "INFO:tensorflow:data_set = ['low_cov_normalized.npz']\n",
            "INFO:tensorflow:kl_weight_start = 0.01\n",
            "INFO:tensorflow:dec_rnn_size = 512\n",
            "INFO:tensorflow:recurrent_dropout_prob = 0.9\n",
            "INFO:tensorflow:Loading data files.\n",
            "INFO:tensorflow:Loaded 1185/100/100 from low_cov_normalized.npz\n",
            "INFO:tensorflow:Dataset combined: 1385 (1185/100/100), avg len 100\n",
            "INFO:tensorflow:model_params.max_seq_len 101.\n",
            "total images <= max_seq_len is 1185\n",
            "total images <= max_seq_len is 100\n",
            "total images <= max_seq_len is 100\n",
            "INFO:tensorflow:normalizing_scale_factor 0.9167.\n",
            "INFO:tensorflow:Model using gpu.\n",
            "WARNING:tensorflow:From /usr/local/lib/python2.7/dist-packages/tensorflow/python/framework/op_def_library.py:263: colocate_with (from tensorflow.python.framework.ops) is deprecated and will be removed in a future version.\n",
            "Instructions for updating:\n",
            "Colocations handled automatically by placer.\n",
            "INFO:tensorflow:Input dropout mode = False.\n",
            "INFO:tensorflow:Output dropout mode = False.\n",
            "INFO:tensorflow:Recurrent dropout mode = True.\n",
            "WARNING:tensorflow:From /usr/local/lib/python2.7/dist-packages/magenta/models/sketch_rnn/model.py:100: bidirectional_dynamic_rnn (from tensorflow.python.ops.rnn) is deprecated and will be removed in a future version.\n",
            "Instructions for updating:\n",
            "Please use `keras.layers.Bidirectional(keras.layers.RNN(cell))`, which is equivalent to this API\n",
            "WARNING:tensorflow:From /usr/local/lib/python2.7/dist-packages/tensorflow/python/ops/rnn.py:443: dynamic_rnn (from tensorflow.python.ops.rnn) is deprecated and will be removed in a future version.\n",
            "Instructions for updating:\n",
            "Please use `keras.layers.RNN(cell)`, which is equivalent to this API\n",
            "WARNING:tensorflow:From /usr/local/lib/python2.7/dist-packages/tensorflow/python/ops/rnn.py:626: to_int32 (from tensorflow.python.ops.math_ops) is deprecated and will be removed in a future version.\n",
            "Instructions for updating:\n",
            "Use tf.cast instead.\n",
            "WARNING:tensorflow:From /usr/local/lib/python2.7/dist-packages/magenta/models/sketch_rnn/rnn.py:113: calling dropout (from tensorflow.python.ops.nn_ops) with keep_prob is deprecated and will be removed in a future version.\n",
            "Instructions for updating:\n",
            "Please use `rate` instead of `keep_prob`. Rate should be set to `rate = 1 - keep_prob`.\n",
            "WARNING:tensorflow:From /usr/local/lib/python2.7/dist-packages/magenta/models/sketch_rnn/model.py:266: div (from tensorflow.python.ops.math_ops) is deprecated and will be removed in a future version.\n",
            "Instructions for updating:\n",
            "Deprecated in favor of operator or tf.math.divide.\n",
            "WARNING:tensorflow:From /usr/local/lib/python2.7/dist-packages/magenta/models/sketch_rnn/model.py:285: calling reduce_sum_v1 (from tensorflow.python.ops.math_ops) with keep_dims is deprecated and will be removed in a future version.\n",
            "Instructions for updating:\n",
            "keep_dims is deprecated, use keepdims instead\n",
            "WARNING:tensorflow:From /usr/local/lib/python2.7/dist-packages/magenta/models/sketch_rnn/model.py:295: softmax_cross_entropy_with_logits (from tensorflow.python.ops.nn_ops) is deprecated and will be removed in a future version.\n",
            "Instructions for updating:\n",
            "\n",
            "Future major versions of TensorFlow will allow gradients to flow\n",
            "into the labels input on backprop by default.\n",
            "\n",
            "See `tf.nn.softmax_cross_entropy_with_logits_v2`.\n",
            "\n",
            "INFO:tensorflow:Model using gpu.\n",
            "INFO:tensorflow:Input dropout mode = 0.\n",
            "INFO:tensorflow:Output dropout mode = 0.\n",
            "INFO:tensorflow:Recurrent dropout mode = 0.\n",
            "2019-06-12 15:34:21.309160: I tensorflow/core/platform/profile_utils/cpu_utils.cc:94] CPU Frequency: 2300000000 Hz\n",
            "2019-06-12 15:34:21.309509: I tensorflow/compiler/xla/service/service.cc:150] XLA service 0x5577ee0323c0 executing computations on platform Host. Devices:\n",
            "2019-06-12 15:34:21.309552: I tensorflow/compiler/xla/service/service.cc:158]   StreamExecutor device (0): <undefined>, <undefined>\n",
            "INFO:tensorflow:vector_rnn/ENC_RNN/fw/LSTMCell/W_xh:0 (5, 1024) 5120\n",
            "INFO:tensorflow:vector_rnn/ENC_RNN/fw/LSTMCell/W_hh:0 (256, 1024) 262144\n",
            "INFO:tensorflow:vector_rnn/ENC_RNN/fw/LSTMCell/bias:0 (1024,) 1024\n",
            "INFO:tensorflow:vector_rnn/ENC_RNN/bw/LSTMCell/W_xh:0 (5, 1024) 5120\n",
            "INFO:tensorflow:vector_rnn/ENC_RNN/bw/LSTMCell/W_hh:0 (256, 1024) 262144\n",
            "INFO:tensorflow:vector_rnn/ENC_RNN/bw/LSTMCell/bias:0 (1024,) 1024\n",
            "INFO:tensorflow:vector_rnn/ENC_RNN_mu/super_linear_w:0 (512, 128) 65536\n",
            "INFO:tensorflow:vector_rnn/ENC_RNN_mu/super_linear_b:0 (128,) 128\n",
            "INFO:tensorflow:vector_rnn/ENC_RNN_sigma/super_linear_w:0 (512, 128) 65536\n",
            "INFO:tensorflow:vector_rnn/ENC_RNN_sigma/super_linear_b:0 (128,) 128\n",
            "INFO:tensorflow:vector_rnn/linear/super_linear_w:0 (128, 1024) 131072\n",
            "INFO:tensorflow:vector_rnn/linear/super_linear_b:0 (1024,) 1024\n",
            "INFO:tensorflow:vector_rnn/RNN/output_w:0 (512, 123) 62976\n",
            "INFO:tensorflow:vector_rnn/RNN/output_b:0 (123,) 123\n",
            "INFO:tensorflow:vector_rnn/RNN/LSTMCell/W_xh:0 (133, 2048) 272384\n",
            "INFO:tensorflow:vector_rnn/RNN/LSTMCell/W_hh:0 (512, 2048) 1048576\n",
            "INFO:tensorflow:vector_rnn/RNN/LSTMCell/bias:0 (2048,) 2048\n",
            "INFO:tensorflow:Total trainable variables 2186107.\n",
            "INFO:tensorflow:step: 20, lr: 0.000998, klw: 0.0105, cost: 1.5240, recon: 1.5215, kl: 0.2357, train_time_taken: 82.4233\n",
            "INFO:tensorflow:step: 40, lr: 0.000996, klw: 0.0110, cost: 1.3939, recon: 1.3901, kl: 0.3384, train_time_taken: 76.8356\n",
            "INFO:tensorflow:best_valid_cost: 1.2411, valid_cost: 1.2411, valid_recon: 1.2355, valid_kl: 0.5634, valid_time_taken: 39.8618\n",
            "INFO:tensorflow:saving model /content/drive/My Drive/ECE 188/gps_locations/logs_low_cov_normalized2/vector.\n",
            "INFO:tensorflow:global_step 50.\n",
            "INFO:tensorflow:time_taken_save 0.7606.\n",
            "INFO:tensorflow:eval_cost: 1.1301, eval_recon: 1.1245, eval_kl: 0.5653, eval_time_taken: 1.3476\n",
            "INFO:tensorflow:step: 60, lr: 0.000994, klw: 0.0115, cost: 0.1433, recon: 0.1358, kl: 0.6557, train_time_taken: 39.0905\n",
            "INFO:tensorflow:step: 80, lr: 0.000992, klw: 0.0120, cost: -0.3470, recon: -0.3610, kl: 1.1688, train_time_taken: 76.8028\n",
            "INFO:tensorflow:step: 100, lr: 0.000990, klw: 0.0124, cost: -0.9753, recon: -0.9890, kl: 1.1050, train_time_taken: 76.4063\n",
            "INFO:tensorflow:best_valid_cost: -1.7159, valid_cost: -1.7159, valid_recon: -1.7268, valid_kl: 1.0929, valid_time_taken: 1.3616\n",
            "INFO:tensorflow:saving model /content/drive/My Drive/ECE 188/gps_locations/logs_low_cov_normalized2/vector.\n",
            "INFO:tensorflow:global_step 100.\n",
            "INFO:tensorflow:time_taken_save 0.5559.\n",
            "INFO:tensorflow:eval_cost: -1.9091, eval_recon: -1.9201, eval_kl: 1.1032, eval_time_taken: 1.3920\n",
            "INFO:tensorflow:step: 120, lr: 0.000988, klw: 0.0129, cost: -0.9782, recon: -0.9897, kl: 0.8916, train_time_taken: 77.8492\n",
            "INFO:tensorflow:step: 140, lr: 0.000986, klw: 0.0134, cost: -1.0033, recon: -1.0195, kl: 1.2027, train_time_taken: 76.7753\n",
            "INFO:tensorflow:best_valid_cost: -2.3553, valid_cost: -2.3553, valid_recon: -2.3687, valid_kl: 1.3418, valid_time_taken: 40.0900\n",
            "INFO:tensorflow:saving model /content/drive/My Drive/ECE 188/gps_locations/logs_low_cov_normalized2/vector.\n",
            "INFO:tensorflow:global_step 150.\n",
            "INFO:tensorflow:time_taken_save 0.5528.\n",
            "INFO:tensorflow:eval_cost: -2.5094, eval_recon: -2.5228, eval_kl: 1.3318, eval_time_taken: 1.3574\n",
            "INFO:tensorflow:step: 160, lr: 0.000984, klw: 0.0139, cost: -1.6356, recon: -1.6556, kl: 1.4395, train_time_taken: 38.7539\n",
            "INFO:tensorflow:step: 180, lr: 0.000982, klw: 0.0144, cost: -1.7784, recon: -1.8027, kl: 1.6874, train_time_taken: 77.1280\n",
            "INFO:tensorflow:step: 200, lr: 0.000980, klw: 0.0149, cost: -2.0076, recon: -2.0338, kl: 1.7548, train_time_taken: 76.6194\n",
            "INFO:tensorflow:best_valid_cost: -3.1828, valid_cost: -3.1828, valid_recon: -3.2005, valid_kl: 1.7683, valid_time_taken: 1.3770\n",
            "INFO:tensorflow:saving model /content/drive/My Drive/ECE 188/gps_locations/logs_low_cov_normalized2/vector.\n",
            "INFO:tensorflow:global_step 200.\n",
            "INFO:tensorflow:time_taken_save 0.5756.\n",
            "INFO:tensorflow:eval_cost: -3.2938, eval_recon: -3.3114, eval_kl: 1.7643, eval_time_taken: 1.3457\n",
            "INFO:tensorflow:step: 220, lr: 0.000978, klw: 0.0154, cost: -2.1434, recon: -2.1729, kl: 1.9199, train_time_taken: 77.0032\n",
            "INFO:tensorflow:step: 240, lr: 0.000977, klw: 0.0158, cost: -2.2007, recon: -2.2329, kl: 2.0299, train_time_taken: 77.0748\n",
            "INFO:tensorflow:best_valid_cost: -3.5663, valid_cost: -3.5663, valid_recon: -3.5870, valid_kl: 2.0630, valid_time_taken: 40.1707\n",
            "INFO:tensorflow:saving model /content/drive/My Drive/ECE 188/gps_locations/logs_low_cov_normalized2/vector.\n",
            "INFO:tensorflow:global_step 250.\n",
            "INFO:tensorflow:time_taken_save 0.7972.\n",
            "INFO:tensorflow:eval_cost: -3.6645, eval_recon: -3.6851, eval_kl: 2.0559, eval_time_taken: 1.3910\n",
            "INFO:tensorflow:step: 260, lr: 0.000975, klw: 0.0163, cost: -2.4034, recon: -2.4378, kl: 2.1054, train_time_taken: 39.4356\n",
            "INFO:tensorflow:step: 280, lr: 0.000973, klw: 0.0168, cost: -2.2512, recon: -2.2876, kl: 2.1673, train_time_taken: 77.9550\n",
            "INFO:tensorflow:step: 300, lr: 0.000971, klw: 0.0173, cost: -2.6077, recon: -2.6466, kl: 2.2513, train_time_taken: 78.1841\n",
            "INFO:tensorflow:best_valid_cost: -3.7331, valid_cost: -3.7331, valid_recon: -3.7557, valid_kl: 2.2626, valid_time_taken: 1.3954\n",
            "INFO:tensorflow:saving model /content/drive/My Drive/ECE 188/gps_locations/logs_low_cov_normalized2/vector.\n",
            "INFO:tensorflow:global_step 300.\n",
            "INFO:tensorflow:time_taken_save 0.5856.\n",
            "INFO:tensorflow:eval_cost: -3.8328, eval_recon: -3.8554, eval_kl: 2.2569, eval_time_taken: 1.4174\n",
            "INFO:tensorflow:step: 320, lr: 0.000969, klw: 0.0178, cost: -2.7830, recon: -2.8235, kl: 2.2764, train_time_taken: 77.9227\n",
            "INFO:tensorflow:step: 340, lr: 0.000967, klw: 0.0183, cost: -2.7970, recon: -2.8380, kl: 2.2459, train_time_taken: 77.6363\n",
            "INFO:tensorflow:best_valid_cost: -3.7331, valid_cost: -3.6389, valid_recon: -3.6612, valid_kl: 2.2373, valid_time_taken: 40.6645\n",
            "INFO:tensorflow:step: 360, lr: 0.000965, klw: 0.0187, cost: -2.4727, recon: -2.5131, kl: 2.1532, train_time_taken: 38.8924\n",
            "INFO:tensorflow:step: 380, lr: 0.000963, klw: 0.0192, cost: -2.9010, recon: -2.9419, kl: 2.1272, train_time_taken: 77.7299\n",
            "INFO:tensorflow:step: 400, lr: 0.000961, klw: 0.0197, cost: -2.7246, recon: -2.7680, kl: 2.2038, train_time_taken: 77.1648\n",
            "INFO:tensorflow:best_valid_cost: -4.4695, valid_cost: -4.4695, valid_recon: -4.4915, valid_kl: 2.2009, valid_time_taken: 1.4030\n",
            "INFO:tensorflow:saving model /content/drive/My Drive/ECE 188/gps_locations/logs_low_cov_normalized2/vector.\n",
            "INFO:tensorflow:global_step 400.\n",
            "INFO:tensorflow:time_taken_save 0.6017.\n",
            "INFO:tensorflow:eval_cost: -4.5644, eval_recon: -4.5863, eval_kl: 2.1918, eval_time_taken: 1.4082\n",
            "INFO:tensorflow:step: 420, lr: 0.000959, klw: 0.0202, cost: -2.6372, recon: -2.6812, kl: 2.1785, train_time_taken: 77.2456\n",
            "INFO:tensorflow:step: 440, lr: 0.000957, klw: 0.0207, cost: -3.0925, recon: -3.1347, kl: 2.0469, train_time_taken: 76.9702\n",
            "INFO:tensorflow:best_valid_cost: -4.6657, valid_cost: -4.6657, valid_recon: -4.6872, valid_kl: 2.1542, valid_time_taken: 39.8198\n",
            "INFO:tensorflow:saving model /content/drive/My Drive/ECE 188/gps_locations/logs_low_cov_normalized2/vector.\n",
            "INFO:tensorflow:global_step 450.\n",
            "INFO:tensorflow:time_taken_save 0.6018.\n",
            "INFO:tensorflow:eval_cost: -4.7664, eval_recon: -4.7880, eval_kl: 2.1556, eval_time_taken: 1.3821\n",
            "INFO:tensorflow:step: 460, lr: 0.000955, klw: 0.0211, cost: -3.3130, recon: -3.3612, kl: 2.2787, train_time_taken: 38.9343\n",
            "INFO:tensorflow:step: 480, lr: 0.000954, klw: 0.0216, cost: -2.8815, recon: -2.9354, kl: 2.4935, train_time_taken: 77.6221\n"
          ],
          "name": "stdout"
        }
      ]
    },
    {
      "cell_type": "code",
      "metadata": {
        "id": "1gxYLPTQFQuk",
        "colab_type": "code",
        "colab": {}
      },
      "source": [
        "sess = tf.InteractiveSession()\n",
        "sess.run(tf.global_variables_initializer())"
      ],
      "execution_count": 0,
      "outputs": []
    },
    {
      "cell_type": "code",
      "metadata": {
        "id": "H_EGVAyl4zL2",
        "colab_type": "code",
        "colab": {}
      },
      "source": [
        ""
      ],
      "execution_count": 0,
      "outputs": []
    },
    {
      "cell_type": "code",
      "metadata": {
        "id": "bVlDyfN_FQum",
        "colab_type": "code",
        "outputId": "44e73413-0361-4f05-97ef-a71cde0fe403",
        "colab": {
          "base_uri": "https://localhost:8080/",
          "height": 51
        }
      },
      "source": [
        "# loads the weights from checkpoint into our model\n",
        "load_checkpoint(sess, model_dir)"
      ],
      "execution_count": 0,
      "outputs": [
        {
          "output_type": "stream",
          "text": [
            "INFO:tensorflow:Loading model /content/drive/My Drive/ECE 188/gps_locations/logs_low_cov_normalized2/vector-450.\n",
            "INFO:tensorflow:Restoring parameters from /content/drive/My Drive/ECE 188/gps_locations/logs_low_cov_normalized2/vector-450\n"
          ],
          "name": "stdout"
        }
      ]
    },
    {
      "cell_type": "markdown",
      "metadata": {
        "id": "EOblwpFeFQuq",
        "colab_type": "text"
      },
      "source": [
        "We define two convenience functions to encode a stroke into a latent vector, and decode from latent vector to stroke."
      ]
    },
    {
      "cell_type": "code",
      "metadata": {
        "id": "tMFlV487FQur",
        "colab_type": "code",
        "colab": {}
      },
      "source": [
        "def encode(input_strokes):\n",
        "    strokes = to_big_strokes(input_strokes).tolist()\n",
        "    strokes.insert(0, [0, 0, 1, 0, 0])\n",
        "    seq_len = [len(input_strokes)]\n",
        "    z = sess.run(eval_model.batch_z,\n",
        "                 feed_dict={\n",
        "                    eval_model.input_data: [strokes], \n",
        "                    eval_model.sequence_lengths: seq_len})[0]\n",
        "    return z"
      ],
      "execution_count": 0,
      "outputs": []
    },
    {
      "cell_type": "code",
      "metadata": {
        "id": "1D5CV7ZlFQut",
        "colab_type": "code",
        "colab": {}
      },
      "source": [
        "def decode(temperature, z_input=None, draw_mode=True, factor=0.2):\n",
        "  z = None\n",
        "  if z_input is not None:\n",
        "    z = [z_input]\n",
        "  sample_strokes, m = sample(sess, sample_model, seq_len=eval_model.hps.max_seq_len, temperature=temperature, z=z)\n",
        "  strokes = to_normal_strokes(sample_strokes)\n",
        "#   if draw_mode==True:\n",
        "#     draw_strokes(strokes, factor)\n",
        "  return strokes"
      ],
      "execution_count": 0,
      "outputs": []
    },
    {
      "cell_type": "code",
      "metadata": {
        "id": "TsAsVdWjZvUi",
        "colab_type": "code",
        "colab": {}
      },
      "source": [
        "# np.load('/content/drive/My Drive/ECE 188/gps_locations/multistroke_rivers.npz')['arr_0'][0][0:100]"
      ],
      "execution_count": 0,
      "outputs": []
    },
    {
      "cell_type": "code",
      "metadata": {
        "id": "5Qah5SPu6fSy",
        "colab_type": "code",
        "outputId": "8e56e10a-d3d1-4b59-b32e-11ef54dde62f",
        "colab": {
          "base_uri": "https://localhost:8080/",
          "height": 269
        }
      },
      "source": [
        "z_0 = np.random.randn(eval_model.hps.z_size)\n",
        "# know = encode(np.load('/content/drive/My Drive/ECE 188/gps_locations/multistroke_rivers.npz')['arr_0'][0][0:100])\n",
        "river_gen = decode(0.08)#[0:20]\n",
        "river_coords = [zip(*river_gen)[0],zip(*river_gen)[1]]\n",
        "import matplotlib.pyplot as plt\n",
        "plt.plot(*river_coords)\n",
        "plt.show()"
      ],
      "execution_count": 0,
      "outputs": [
        {
          "output_type": "display_data",
          "data": {
            "image/png": "[encoded data removed]",
            "text/plain": [
              "<Figure size 432x288 with 1 Axes>"
            ]
          },
          "metadata": {
            "tags": []
          }
        }
      ]
    },
    {
      "cell_type": "code",
      "metadata": {
        "id": "DbrRieK1aC1I",
        "colab_type": "code",
        "colab": {}
      },
      "source": [
        "# irrawaddy = np.load('/content/drive/My Drive/ECE 188/gps_locations/multistroke_rivers.npz')['arr_0'][0]\n",
        "# draw_strokes(irrawaddy, '/content/drive/My Drive/ECE 188/gps_locations/irrawaddy.svg')"
      ],
      "execution_count": 0,
      "outputs": []
    },
    {
      "cell_type": "code",
      "metadata": {
        "id": "4VQ54GucVdtq",
        "colab_type": "code",
        "colab": {}
      },
      "source": [
        ""
      ],
      "execution_count": 0,
      "outputs": []
    },
    {
      "cell_type": "code",
      "metadata": {
        "id": "WSd28tWLiNee",
        "colab_type": "code",
        "colab": {}
      },
      "source": [
        ""
      ],
      "execution_count": 0,
      "outputs": []
    },
    {
      "cell_type": "code",
      "metadata": {
        "id": "EyRwaNU6Umu8",
        "colab_type": "code",
        "colab": {}
      },
      "source": [
        ""
      ],
      "execution_count": 0,
      "outputs": []
    }
  ]
}